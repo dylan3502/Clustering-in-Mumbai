{
 "cells": [
  {
   "cell_type": "markdown",
   "metadata": {},
   "source": [
    "<h2>Clustering in Mumbai- A Report</h2>"
   ]
  },
  {
   "cell_type": "markdown",
   "metadata": {},
   "source": [
    "<h3>Table of contents</h3>\n",
    "<ul>\n",
    "    <li>Introduction: Business Problem</li>\n",
    "    <li> Data</li>\n",
    "    <li>Methodology</li>\n",
    "    <li>Analysis</li>\n",
    "    <li>Results and Discussion</li>\n",
    "    <li>Conclusion</li>\n",
    "    </ul>\n",
    "\n"
   ]
  },
  {
   "cell_type": "markdown",
   "metadata": {},
   "source": [
    "<h3>Introduction: Business Problem</h3>\n",
    "\n",
    "In this project we will try to find an optimal location for a restaurant. Specifically, this report will be targeted to restauranteurs interested in opening a restaurant in Mumbai.\n",
    "Here we will try finding if someone wants to open a new restaurant in the city which location is best suited for it keeping in mind the competitors and which income group of people will be attracted most to it based on the population of the neighbourhood.\n",
    "\n",
    "Since there are lots of restaurants in Mumbai, we will try to detect locations that are not already crowded with restaurants but still have some competition. We would also prefer locations as close to city center as possible, assuming that first two conditions are met.\n",
    "\n",
    "We will use KMeans clustering after the initial cleanign of Data to generate a few most promissing neighbourhoods based on this criteria. Advantages of each area will then be clearly expressed so that best possible final location can be chosen by stakeholders."
   ]
  },
  {
   "cell_type": "markdown",
   "metadata": {},
   "source": [
    "<h3>Data</h3>\n",
    "Based on definition of our problem, factors that will influence our decission are:\n",
    "<ul>\n",
    "    <li>All existing restaurants in the neighborhood (any type of restaurant)</li>\n",
    "    <li>Age group of people with their income</li>\n",
    "</ul>\n",
    "We decided to use regularly spaced grid of locations, centered around city center, to define our neighborhoods.\n",
    "Following data sources will be needed to extract/generate the required information:\n",
    "<ul>\n",
    "     <li>Neighbourhood data in reference with its co-ordinates and pincode/postalcode</li>\n",
    "    <li>Number of restaurants and their type and location in every neighborhood using Foursquare API</li>\n",
    "</ul>\n"
   ]
  },
  {
   "cell_type": "markdown",
   "metadata": {},
   "source": [
    "<h3>Methodology</h3>\n",
    "\n",
    "To solve the problem I am going to use “K-Means Clustering Algorithm \". K-means clustering is a type of unsupervised learning, which is used when you have unlabeled data (i.e., data without defined categories or groups). The goal of this algorithm is to find groups in the data, with the number of groups represented by the variable K. The algorithm works iteratively to assign each data point to one of K groups based on the features that are provided. Data points are clustered based on feature similarity. The results of the K-means clustering algorithm are:\n",
    "The centroids of the K clusters, which can be used to label new data Labels for the training data (each data point is assigned to a single cluster)"
   ]
  },
  {
   "cell_type": "markdown",
   "metadata": {},
   "source": [
    "<h3>Analysis</h3>\n",
    "The data for Mumbai was hard to find however after successfully organising the data I imported it to the notebook and checked for missing values. 228 Neighbourhoods in Mumbai were plotted on a map to better visualise the data and for an outsider to get a glance at the city and the several neighbourhoods within it. \n",
    "\n",
    "After this I used foursquare API to explore and find top venues in each location. I defined a function such that it would input the co-ordinates of each neighbourhood in Mumbai and provide us with a dataframe of useful information. This gave us a total of 2815 venues with their co-ordinates and categories so that we can better understand each neighbourhood. \n",
    "\n",
    "We apply one hot encoding where the integer encoded variable is removed and a new binary variable is added for each unique integer value.This will help the the machine better fit the model and output useful clusters.We then sort the data into the top ten most visited venues in each neighbourhood We then apply KMeans clustering to find form the neighbourhoods into clusters.\n",
    "\n",
    "Finally, I have mapped the clusters after assigning each one a different color for better understanding. The map would help in understanding which cluster one should choose."
   ]
  },
  {
   "cell_type": "markdown",
   "metadata": {},
   "source": [
    "<h3>Results and Discussion</h3>\n",
    "We can see that the six clusters have varying sizes. We can see that each cluster has different most visited venues for example Cluster 5 includes neighbourhoods that have more gyms and parks in them. cluster 1 has however provided us with a group of 64 neighbourhoods whose first two most common venues are mostly restaurants. This implies that these neighbourhoods have a great variety of various restaurants and could imply a more comptetitive environment for any restauranteur which could also translate to higher profits.\n",
    "\n",
    "For more 'bull-ish' businessman Cluster 6 would be a better fit as these neighbourhoods do see a high number of restaurants and eateries however it is not as concentrated as Cluster 2. This would mean less risks and would be good for any new businessmen/restauranteur who wants to enter the market."
   ]
  },
  {
   "cell_type": "markdown",
   "metadata": {},
   "source": [
    "<h3>Conclusion</h3>\n",
    "In conclusion, The goal of this project was to ascertain optimal locations for businesses to bloom. The total number of neighbourhoods in Mumbai is 228. Through KMeans clustering and analysis we can remove more than half the neighbourhoods if the restauranteur selects Cluster 6. However if the restauranteur selects a more 'bear-ish' approach and selects Cluster 2 they would substract approximately 72% of the total neighbourhoods. \n",
    "\n",
    "However, a caveat of this study is that restaurants in itself have various subsections and if someone wanted to open a certain type of restaurant e.g: Indian, Steakhouse etc. they would have to further cluster the chosen cluster such that there arent many restaurants of that cuisine in the neighbourhood. Another way of narrowing down from within a cluster would be to superimpose the income distribution in Mumbai onto the map(this would mean that if you were planning on opening a fine-dining restaurant you could choose a neighbourhood with high income.) such that you could choose a restaurant location in a neighbourhood of you choice."
   ]
  }
 ],
 "metadata": {
  "kernelspec": {
   "display_name": "Python 3",
   "language": "python",
   "name": "python3"
  },
  "language_info": {
   "codemirror_mode": {
    "name": "ipython",
    "version": 3
   },
   "file_extension": ".py",
   "mimetype": "text/x-python",
   "name": "python",
   "nbconvert_exporter": "python",
   "pygments_lexer": "ipython3",
   "version": "3.7.7"
  }
 },
 "nbformat": 4,
 "nbformat_minor": 4
}
