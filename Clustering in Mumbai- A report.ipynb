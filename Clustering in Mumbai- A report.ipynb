{
 "cells": [
  {
   "cell_type": "markdown",
   "metadata": {},
   "source": [
    "<h2>Clustering in Mumbai- An analysis</h2>"
   ]
  },
  {
   "cell_type": "markdown",
   "metadata": {},
   "source": [
    "<h3>Table of contents</h3>\n",
    "<ul>\n",
    "    <li>Introduction: Business Problem</li>\n",
    "    <li> Data</li>\n",
    "    <li>Methodology</li>\n",
    "    <li>Analysis</li>\n",
    "    <li>Results and Discussion</li>\n",
    "    <li>Conclusion</li>\n",
    "    </ul>\n",
    "\n"
   ]
  },
  {
   "cell_type": "markdown",
   "metadata": {},
   "source": [
    "<h3>Introduction: Business Problem</h3>\n",
    "\n",
    "In this project we will try to find an optimal location for a restaurant. Specifically, this report will be targeted to restauranteurs interested in opening a restaurant in Mumbai.\n",
    "Here we will try finding if someone wants to open a new restaurant in the city which location is best suited for it keeping in mind the competitors and which income group of people will be attracted most to it based on the population of the neighbourhood.\n",
    "\n",
    "Since there are lots of restaurants in Mumbai, we will try to detect locations that are not already crowded with restaurants but still have some competition. We would also prefer locations as close to city center as possible, assuming that first two conditions are met.\n",
    "\n",
    "We will use KMeans clustering after the initial cleanign of Data to generate a few most promissing neighbourhoods based on this criteria. Advantages of each area will then be clearly expressed so that best possible final location can be chosen by stakeholders."
   ]
  },
  {
   "cell_type": "markdown",
   "metadata": {},
   "source": [
    "<h3>Data</h3>\n",
    "Based on definition of our problem, factors that will influence our decission are:\n",
    "<ul>\n",
    "    <li>All existing restaurants in the neighborhood (any type of restaurant)</li>\n",
    "    <li>Age group of people with their income</li>\n",
    "</ul>\n",
    "We decided to use regularly spaced grid of locations, centered around city center, to define our neighborhoods.\n",
    "Following data sources will be needed to extract/generate the required information:\n",
    "<ul>\n",
    "     <li>Neighbourhood data in reference with its co-ordinates and pincode/postalcode</li>\n",
    "    <li>Number of restaurants and their type and location in every neighborhood using Foursquare API</li>\n",
    "</ul>\n"
   ]
  },
  {
   "cell_type": "markdown",
   "metadata": {},
   "source": [
    "<h3>Methodology</h3>"
   ]
  },
  {
   "cell_type": "code",
   "execution_count": null,
   "metadata": {},
   "outputs": [],
   "source": []
  },
  {
   "cell_type": "code",
   "execution_count": null,
   "metadata": {},
   "outputs": [],
   "source": []
  },
  {
   "cell_type": "code",
   "execution_count": null,
   "metadata": {},
   "outputs": [],
   "source": []
  },
  {
   "cell_type": "code",
   "execution_count": null,
   "metadata": {},
   "outputs": [],
   "source": []
  },
  {
   "cell_type": "code",
   "execution_count": null,
   "metadata": {},
   "outputs": [],
   "source": []
  },
  {
   "cell_type": "code",
   "execution_count": null,
   "metadata": {},
   "outputs": [],
   "source": []
  },
  {
   "cell_type": "code",
   "execution_count": null,
   "metadata": {},
   "outputs": [],
   "source": []
  },
  {
   "cell_type": "code",
   "execution_count": null,
   "metadata": {},
   "outputs": [],
   "source": []
  },
  {
   "cell_type": "code",
   "execution_count": null,
   "metadata": {},
   "outputs": [],
   "source": []
  }
 ],
 "metadata": {
  "kernelspec": {
   "display_name": "Python 3",
   "language": "python",
   "name": "python3"
  },
  "language_info": {
   "codemirror_mode": {
    "name": "ipython",
    "version": 3
   },
   "file_extension": ".py",
   "mimetype": "text/x-python",
   "name": "python",
   "nbconvert_exporter": "python",
   "pygments_lexer": "ipython3",
   "version": "3.7.7"
  }
 },
 "nbformat": 4,
 "nbformat_minor": 4
}
