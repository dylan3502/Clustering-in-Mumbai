{
 "cells": [
  {
   "cell_type": "markdown",
   "metadata": {},
   "source": [
    "<h1>Clustering in Mumbai</h1>\n",
    "<h2>In this Notebook we will look at the neighbourhoods in mumbai to find ideal spots to open new restaurants.</h2> "
   ]
  },
  {
   "cell_type": "markdown",
   "metadata": {},
   "source": [
    "<h5>Introduction </h5>\n",
    "    We will be looking at neighbourhood data in Mumbai to ascertain spots or clusters in the city that are ideal for a new restaurant. This data should help one understand the various neighbourhoods in Mumbai.\n"
   ]
  },
  {
   "cell_type": "markdown",
   "metadata": {},
   "source": [
    "<h5>Business Problem </h5>\n",
    "  \n",
    "  Mumbai is the capital city of Maharashtra. As of 2018, Mumbai was the second most populous city in India and the seventh most populous city in the world with a population of 19.98 million according to the United Nations. The city provides ample of opportunities for new business owners. It has the highest number of millionaires and billionaires among all cities in India. Mumbai is the financial, commercial and entertainment capital of India. \n",
    "The entire area is overseen by the Mumbai Metropolitan Region Development Authority (MMRDA).\n",
    "   \n",
    "   Having such vast population and an ever-increasing financial power, there also exists big competition between businesses. Therefore it becomes very challenging for stakeholders or new businesses to decide which areas they should start their business in, in order to maximize growth and profits. "
   ]
  },
  {
   "cell_type": "markdown",
   "metadata": {},
   "source": [
    "<h5>Target Audience: New restauranteurs wanting to expand or start a business in Mumbai.</h5> \n"
   ]
  }
 ],
 "metadata": {
  "kernelspec": {
   "display_name": "Python 3",
   "language": "python",
   "name": "python3"
  },
  "language_info": {
   "codemirror_mode": {
    "name": "ipython",
    "version": 3
   },
   "file_extension": ".py",
   "mimetype": "text/x-python",
   "name": "python",
   "nbconvert_exporter": "python",
   "pygments_lexer": "ipython3",
   "version": "3.7.7"
  }
 },
 "nbformat": 4,
 "nbformat_minor": 4
}
